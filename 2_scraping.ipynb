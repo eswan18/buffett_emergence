{
 "cells": [
  {
   "cell_type": "markdown",
   "metadata": {},
   "source": [
    "# 2. Scraping\n",
    "Scrape the [Top 10 Corporations by Year data](https://en.wikipedia.org/wiki/List_of_public_corporations_by_market_capitalization) from Wikipedia."
   ]
  },
  {
   "cell_type": "code",
   "execution_count": 53,
   "metadata": {},
   "outputs": [],
   "source": [
    "import bs4\n",
    "import requests, re"
   ]
  },
  {
   "cell_type": "code",
   "execution_count": 16,
   "metadata": {},
   "outputs": [],
   "source": [
    "url = 'http://en.wikipedia.org/wiki/List_of_public_corporations_by_market_capitalization'\n",
    "res = requests.get(url)\n",
    "soup = bs4.BeautifulSoup(res.text, 'html5lib')"
   ]
  },
  {
   "cell_type": "code",
   "execution_count": 46,
   "metadata": {},
   "outputs": [
    {
     "data": {
      "text/plain": [
       "30"
      ]
     },
     "execution_count": 46,
     "metadata": {},
     "output_type": "execute_result"
    }
   ],
   "source": [
    "tables = soup.find_all('table', {'class': 'wikitable'})\n",
    "len(tables)"
   ]
  },
  {
   "cell_type": "markdown",
   "metadata": {},
   "source": [
    "Filter out tables that aren't what we want. We'll check for the presence of a column called \"First Quarter\"."
   ]
  },
  {
   "cell_type": "code",
   "execution_count": 47,
   "metadata": {},
   "outputs": [
    {
     "data": {
      "text/plain": [
       "11"
      ]
     },
     "execution_count": 47,
     "metadata": {},
     "output_type": "execute_result"
    }
   ],
   "source": [
    "def is_data_table(table):\n",
    "    headers = table.find_all('th')\n",
    "    header_text = ','.join([header.text for header in headers])\n",
    "    if 'first quarter' not in header_text.lower():\n",
    "        return False\n",
    "    return True\n",
    "\n",
    "tables = list(filter(is_data_table, tables))\n",
    "len(tables)"
   ]
  },
  {
   "cell_type": "markdown",
   "metadata": {},
   "source": [
    "### Get the company names out of the table cells.\n",
    "\n",
    "This function will work on the tables from 2008-2018"
   ]
  },
  {
   "cell_type": "code",
   "execution_count": 80,
   "metadata": {},
   "outputs": [
    {
     "data": {
      "text/plain": [
       "'Apple Inc.'"
      ]
     },
     "execution_count": 80,
     "metadata": {},
     "output_type": "execute_result"
    }
   ],
   "source": [
    "def extract_text_from_td(td):\n",
    "    text = td.text\n",
    "    regex = re.compile('(.*)\\n.*')\n",
    "    match = regex.search(text)\n",
    "    if match is not None:\n",
    "        return match.group(1)\n",
    "\n",
    "extract_text_from_td(tables[0].find_all('td')[2])"
   ]
  },
  {
   "cell_type": "code",
   "execution_count": 105,
   "metadata": {},
   "outputs": [
    {
     "name": "stdout",
     "output_type": "stream",
     "text": [
      "{'Alphabet Inc.', 'China Mobile', 'HSBC', 'Walmart', 'Nestlé', 'Wells Fargo', 'IBM', 'Royal Dutch Shell', 'Industrial and Commercial Bank of China', 'AT&T', 'Petrobras', 'PetroChina', 'Wal-Mart', 'Tencent', 'Exxon Mobil', 'Alibaba Group', 'Facebook', 'General Electric', 'Google', 'Petro China', 'Procter & Gamble', 'Chevron Corporation', 'ICBC', 'Microsoft', 'BHP Billiton', 'Alphabet', 'Novartis', 'Berkshire Hathaway', 'Johnson & Johnson', 'Hoffmann-La Roche', 'Amazon', 'Samsung Electronics', 'China Construction Bank', 'Gazprom', 'Amazon.com', 'ExxonMobil', 'JPMorgan Chase', 'Apple Inc.'}\n"
     ]
    }
   ],
   "source": [
    "company_names = set()\n",
    "for table in tables:\n",
    "    tds = table.find_all('td')\n",
    "    text = map(extract_text_from_td, tds)\n",
    "    text = filter(lambda x: x is not None and len(x) > 0, text)\n",
    "    company_names |= set(text)\n",
    "\n",
    "print(company_names)"
   ]
  },
  {
   "cell_type": "markdown",
   "metadata": {},
   "source": [
    "### TODO: Get the companies from the tables before 2008"
   ]
  }
 ],
 "metadata": {
  "kernelspec": {
   "display_name": "ad_hoc",
   "language": "python",
   "name": "python3"
  },
  "language_info": {
   "codemirror_mode": {
    "name": "ipython",
    "version": 3
   },
   "file_extension": ".py",
   "mimetype": "text/x-python",
   "name": "python",
   "nbconvert_exporter": "python",
   "pygments_lexer": "ipython3",
   "version": "3.6.5"
  }
 },
 "nbformat": 4,
 "nbformat_minor": 2
}
