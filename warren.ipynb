{
 "cells": [
  {
   "cell_type": "code",
   "execution_count": 46,
   "metadata": {},
   "outputs": [],
   "source": [
    "# Data\n",
    "import numpy as np\n",
    "import pandas as pd\n",
    "# Stats\n",
    "from scipy import stats\n",
    "# Viz\n",
    "import matplotlib.pyplot as plt\n",
    "import seaborn as sns\n",
    "%matplotlib inline\n",
    "import altair as alt\n",
    "alt.renderers.enable('notebook')"
   ]
  },
  {
   "cell_type": "markdown",
   "metadata": {},
   "source": [
    "### Create parameters...\n",
    "... based on historical market data"
   ]
  },
  {
   "cell_type": "code",
   "execution_count": 40,
   "metadata": {},
   "outputs": [],
   "source": [
    "# These are the market returns from 1928 to 2017, inclusive\n",
    "# Source: http://pages.stern.nyu.edu/~adamodar/New_Home_Page/datafile/histretSP.html\n",
    "returns = np.array([0.44,-0.08,-0.25,-0.44,-0.09,0.50,-0.01,0.47,0.32,-0.35,0.29,-0.01,-0.11,\n",
    "           -0.13,0.19,0.25,0.19,0.36,-0.08,0.05,0.06,0.18,0.31,0.24,0.18,-0.01,0.53,\n",
    "           0.33,0.07,-0.10,0.44,0.12,0.00,0.27,-0.09,0.23,0.16,0.12,-0.10,0.24,0.11,\n",
    "           -0.08,0.04,0.14,0.19,-0.14,-0.26,0.37,0.24,-0.07,0.07,0.19,0.32,-0.05,0.20,\n",
    "           0.22,0.06,0.31,0.18,0.06,0.17,0.31,-0.03,0.30,0.07,0.10,0.01,0.37,0.23,0.33,\n",
    "           0.28,0.21,-0.09,-0.12,-0.22,0.28,0.11,0.05,0.16,0.05,-0.37,0.26,0.15,0.02,\n",
    "           0.16,0.32,0.14,0.01,0.12,0.22])"
   ]
  },
  {
   "cell_type": "code",
   "execution_count": 41,
   "metadata": {},
   "outputs": [
    {
     "name": "stderr",
     "output_type": "stream",
     "text": [
      "C:\\Users\\eswan\\AppData\\Local\\conda\\conda\\envs\\ad_hoc\\lib\\site-packages\\matplotlib\\axes\\_axes.py:6462: UserWarning: The 'normed' kwarg is deprecated, and has been replaced by the 'density' kwarg.\n",
      "  warnings.warn(\"The 'normed' kwarg is deprecated, and has been \"\n"
     ]
    },
    {
     "data": {
      "text/plain": [
       "<matplotlib.axes._subplots.AxesSubplot at 0x206adbf3b70>"
      ]
     },
     "execution_count": 41,
     "metadata": {},
     "output_type": "execute_result"
    },
    {
     "data": {
      "image/png": "[encoded data removed]",
      "text/plain": [
       "<Figure size 432x288 with 1 Axes>"
      ]
     },
     "metadata": {},
     "output_type": "display_data"
    }
   ],
   "source": [
    "sns.distplot(returns)"
   ]
  },
  {
   "cell_type": "markdown",
   "metadata": {},
   "source": [
    "Looks like a normal distribution. Let's test it. "
   ]
  },
  {
   "cell_type": "code",
   "execution_count": 48,
   "metadata": {},
   "outputs": [
    {
     "data": {
      "text/plain": [
       "(0.983182430267334, 0.2977946698665619)"
      ]
     },
     "execution_count": 48,
     "metadata": {},
     "output_type": "execute_result"
    }
   ],
   "source": [
    "t, p = stats.shapiro(returns)\n",
    "t, p"
   ]
  },
  {
   "cell_type": "markdown",
   "metadata": {},
   "source": [
    "Evidently, according to my stats-savvier colleagues, this relatively high p-value means we can't reject the hypothesis that this distribution is normal. So that's good - we will proceed assuming this is normal.\n",
    "\n",
    "We can entirely describe a normal distribution with just its mean and standard deviation. Let's get those and store them for later."
   ]
  },
  {
   "cell_type": "code",
   "execution_count": 45,
   "metadata": {},
   "outputs": [
    {
     "data": {
      "text/plain": [
       "(0.11544444444444443, 0.19544343376657383)"
      ]
     },
     "execution_count": 45,
     "metadata": {},
     "output_type": "execute_result"
    }
   ],
   "source": [
    "mu = returns.mean()\n",
    "sigma = returns.std()\n",
    "mu, sigma"
   ]
  },
  {
   "cell_type": "code",
   "execution_count": null,
   "metadata": {},
   "outputs": [],
   "source": []
  }
 ],
 "metadata": {
  "kernelspec": {
   "display_name": "ad_hoc",
   "language": "python",
   "name": "ad_hoc"
  },
  "language_info": {
   "codemirror_mode": {
    "name": "ipython",
    "version": 3
   },
   "file_extension": ".py",
   "mimetype": "text/x-python",
   "name": "python",
   "nbconvert_exporter": "python",
   "pygments_lexer": "ipython3",
   "version": "3.6.4"
  }
 },
 "nbformat": 4,
 "nbformat_minor": 2
}
