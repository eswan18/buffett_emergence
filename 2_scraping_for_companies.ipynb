{
 "cells": [
  {
   "cell_type": "markdown",
   "metadata": {},
   "source": [
    "# 2. Scraping\n",
    "Scrape the [Top 10 Corporations by Year data](https://en.wikipedia.org/wiki/List_of_public_corporations_by_market_capitalization) from Wikipedia."
   ]
  },
  {
   "cell_type": "code",
   "execution_count": 15,
   "metadata": {},
   "outputs": [],
   "source": [
    "import bs4\n",
    "import requests, re"
   ]
  },
  {
   "cell_type": "code",
   "execution_count": 16,
   "metadata": {},
   "outputs": [],
   "source": [
    "url = 'http://en.wikipedia.org/wiki/List_of_public_corporations_by_market_capitalization'\n",
    "res = requests.get(url)\n",
    "soup = bs4.BeautifulSoup(res.text, 'html5lib')"
   ]
  },
  {
   "cell_type": "code",
   "execution_count": 17,
   "metadata": {},
   "outputs": [
    {
     "data": {
      "text/plain": [
       "30"
      ]
     },
     "execution_count": 17,
     "metadata": {},
     "output_type": "execute_result"
    }
   ],
   "source": [
    "tables = soup.find_all('table', {'class': 'wikitable'})\n",
    "len(tables)"
   ]
  },
  {
   "cell_type": "markdown",
   "metadata": {},
   "source": [
    "Filter out tables that aren't what we want. We'll check for the presence of a \"rank\" column and either \"market value\" or \"first quarter\"."
   ]
  },
  {
   "cell_type": "code",
   "execution_count": 18,
   "metadata": {},
   "outputs": [
    {
     "data": {
      "text/plain": [
       "28"
      ]
     },
     "execution_count": 18,
     "metadata": {},
     "output_type": "execute_result"
    }
   ],
   "source": [
    "def is_data_table(table):\n",
    "    headers = table.find_all('th')\n",
    "    header_text = ','.join([header.text for header in headers])\n",
    "    if 'rank' not in header_text.lower():\n",
    "        return False\n",
    "    if 'market value' not in header_text.lower() and 'first quarter' not in header_text.lower():\n",
    "        return False\n",
    "    return True\n",
    "\n",
    "tables = list(filter(is_data_table, tables))\n",
    "len(tables)"
   ]
  },
  {
   "cell_type": "markdown",
   "metadata": {},
   "source": [
    "Manual intervention...\n",
    "For some reason, Wikipedia breaks out 2007 and 2006 into four separate tables, one for each quarter.\n",
    "\n",
    "We're just going to manually remove these **except for Q1 2006**, which will have to serve as our record for 2005.\n",
    "Because 2005 is completely missing. Of course."
   ]
  },
  {
   "cell_type": "code",
   "execution_count": 19,
   "metadata": {},
   "outputs": [],
   "source": [
    "tables = [table for index, table in enumerate(tables)\n",
    "          if index not in (13, 14, 15, 17, 18)]"
   ]
  },
  {
   "cell_type": "markdown",
   "metadata": {},
   "source": [
    "### Get the company names out of the table cells, 2008-2018\n",
    "\n",
    "This function will return the first line of text from any cell with a newline character.\n",
    "This handles the formatting for the tables from 2008 to 2018."
   ]
  },
  {
   "cell_type": "code",
   "execution_count": 20,
   "metadata": {},
   "outputs": [
    {
     "data": {
      "text/plain": [
       "'Apple Inc.'"
      ]
     },
     "execution_count": 20,
     "metadata": {},
     "output_type": "execute_result"
    }
   ],
   "source": [
    "def extract_text_from_td(td):\n",
    "    text = td.text\n",
    "    regex = re.compile('(.*)\\n.*')\n",
    "    match = regex.search(text)\n",
    "    if match is not None:\n",
    "        return match.group(1)\n",
    "\n",
    "extract_text_from_td(tables[0].find_all('td')[2])"
   ]
  },
  {
   "cell_type": "markdown",
   "metadata": {},
   "source": [
    "Run the function on all table cells. Store the company names in one *set* per year, so that removed duplicates."
   ]
  },
  {
   "cell_type": "code",
   "execution_count": 21,
   "metadata": {},
   "outputs": [
    {
     "data": {
      "text/plain": [
       "{'Alibaba Group',\n",
       " 'Alphabet Inc.',\n",
       " 'Amazon.com',\n",
       " 'Apple Inc.',\n",
       " 'Berkshire Hathaway',\n",
       " 'Facebook',\n",
       " 'JPMorgan Chase',\n",
       " 'Johnson & Johnson',\n",
       " 'Microsoft',\n",
       " 'Tencent'}"
      ]
     },
     "execution_count": 21,
     "metadata": {},
     "output_type": "execute_result"
    }
   ],
   "source": [
    "company_names = {}\n",
    "# Run only on the first 11 tables (the ones formatted this way)\n",
    "for index, table in enumerate(tables[:11]):\n",
    "    tds = table.find_all('td')\n",
    "    text = map(extract_text_from_td, tds)\n",
    "    # Keep only results where company names were found.\n",
    "    text = filter(lambda x: x is not None and len(x) > 0, text)\n",
    "    company_names[index] = set(text)\n",
    "\n",
    "company_names[0]"
   ]
  },
  {
   "cell_type": "markdown",
   "metadata": {},
   "source": [
    "### Get the company names out of the table cells, 1996-2007\n",
    "This function gets the text out of the second table cell in every non-header row.\n",
    "From 1996 to 2007, this is where to find the company name."
   ]
  },
  {
   "cell_type": "code",
   "execution_count": 22,
   "metadata": {},
   "outputs": [],
   "source": [
    "def extract_text_from_tr(tr):\n",
    "    # The company name is always in the 2nd column.\n",
    "    tds = tr.find_all('td')\n",
    "    if len(tds) > 0:\n",
    "        td = tds[1]\n",
    "        return td.text"
   ]
  },
  {
   "cell_type": "markdown",
   "metadata": {},
   "source": [
    "Run it on every row."
   ]
  },
  {
   "cell_type": "code",
   "execution_count": 23,
   "metadata": {},
   "outputs": [
    {
     "data": {
      "text/plain": [
       "{'Alibaba Group',\n",
       " 'Alphabet Inc.',\n",
       " 'Amazon.com',\n",
       " 'Apple Inc.',\n",
       " 'Berkshire Hathaway',\n",
       " 'Facebook',\n",
       " 'JPMorgan Chase',\n",
       " 'Johnson & Johnson',\n",
       " 'Microsoft',\n",
       " 'Tencent'}"
      ]
     },
     "execution_count": 23,
     "metadata": {},
     "output_type": "execute_result"
    }
   ],
   "source": [
    "for index, table in enumerate(tables[11:]):\n",
    "    # This time, break it down by rows not columns.\n",
    "    trs = table.find_all('tr')\n",
    "    text = map(extract_text_from_tr, trs)\n",
    "    # Keep only results where company names were found.\n",
    "    text = filter(lambda x: x is not None and len(x) > 0, text)\n",
    "    # Add 11 to the index because we've already inserted the first 11 years above.\n",
    "    company_names[index + 11] = set(text)\n",
    "\n",
    "company_names[0]"
   ]
  },
  {
   "cell_type": "markdown",
   "metadata": {},
   "source": [
    "We should have as many keys in the dictionary as we had tables to start with."
   ]
  },
  {
   "cell_type": "code",
   "execution_count": 24,
   "metadata": {},
   "outputs": [],
   "source": [
    "assert len(tables) == len(company_names.keys())"
   ]
  },
  {
   "cell_type": "markdown",
   "metadata": {},
   "source": [
    "Translate this dictionary so the keys are the relevant years, so 1996-2018 (not 0-27).\n",
    "Note that our tables are currently listed in descending order, where index 0 == year 2018.\n",
    "While we're at it, convert the company names into lists instead of sets - simply because I find lists easier to work with."
   ]
  },
  {
   "cell_type": "code",
   "execution_count": 25,
   "metadata": {},
   "outputs": [
    {
     "data": {
      "text/plain": [
       "['AT&T',\n",
       " 'Citigroup',\n",
       " 'Microsoft',\n",
       " 'General Electric',\n",
       " 'Exxon Mobil',\n",
       " 'China Mobile',\n",
       " 'Industrial and Commercial Bank of China',\n",
       " 'Bank of America',\n",
       " 'Royal Dutch Shell',\n",
       " 'Gazprom']"
      ]
     },
     "execution_count": 25,
     "metadata": {},
     "output_type": "execute_result"
    }
   ],
   "source": [
    "companies_by_year = {2018-key: list(company_names[key])\n",
    "                     for key in company_names.keys()}\n",
    "companies_by_year[2006]"
   ]
  },
  {
   "cell_type": "markdown",
   "metadata": {},
   "source": [
    "How many companies do we have per year?"
   ]
  },
  {
   "cell_type": "code",
   "execution_count": 27,
   "metadata": {},
   "outputs": [
    {
     "name": "stdout",
     "output_type": "stream",
     "text": [
      "1996: 5\n",
      "1997: 10\n",
      "1998: 10\n",
      "1999: 10\n",
      "2000: 10\n",
      "2001: 10\n",
      "2002: 10\n",
      "2003: 10\n",
      "2004: 10\n",
      "2005: 10\n",
      "2006: 10\n",
      "2007: 10\n",
      "2008: 15\n",
      "2009: 15\n",
      "2010: 15\n",
      "2011: 14\n",
      "2012: 13\n",
      "2013: 14\n",
      "2014: 15\n",
      "2015: 16\n",
      "2016: 13\n",
      "2017: 12\n",
      "2018: 10\n"
     ]
    }
   ],
   "source": [
    "for year in sorted(companies_by_year.keys()):\n",
    "    n_companies = len(companies_by_year[year])\n",
    "    print(f'{year}: {n_companies}')"
   ]
  },
  {
   "cell_type": "markdown",
   "metadata": {},
   "source": [
    "Store this scraped data as JSON. We'll use it in the next notebook."
   ]
  },
  {
   "cell_type": "code",
   "execution_count": 38,
   "metadata": {},
   "outputs": [],
   "source": [
    "import json, os\n",
    "current_dir = os.path.join(os.environ['HOME'],\n",
    "                           'data_science/syntact/buffett_emergence/')\n",
    "json_path = os.path.join(current_dir, 'companies_by_year.json')\n",
    "with open(json_path, 'w') as f:\n",
    "    json.dump(companies_by_year, f)"
   ]
  }
 ],
 "metadata": {
  "kernelspec": {
   "display_name": "ad_hoc",
   "language": "python",
   "name": "python3"
  },
  "language_info": {
   "codemirror_mode": {
    "name": "ipython",
    "version": 3
   },
   "file_extension": ".py",
   "mimetype": "text/x-python",
   "name": "python",
   "nbconvert_exporter": "python",
   "pygments_lexer": "ipython3",
   "version": "3.6.5"
  }
 },
 "nbformat": 4,
 "nbformat_minor": 2
}
